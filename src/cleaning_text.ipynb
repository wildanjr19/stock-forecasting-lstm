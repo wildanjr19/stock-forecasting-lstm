{
 "cells": [
  {
   "cell_type": "code",
   "execution_count": 1,
   "id": "70b189a5",
   "metadata": {},
   "outputs": [],
   "source": [
    "import  pandas as pd\n",
    "import re\n",
    "import string\n",
    "import emoji"
   ]
  },
  {
   "cell_type": "code",
   "execution_count": 2,
   "id": "7fb5ef96",
   "metadata": {},
   "outputs": [],
   "source": [
    "# cleaning function\n",
    "def cleaning(text):\n",
    "    # hapus urls\n",
    "    text = re.sub(r'http\\S+|www\\.\\S+', '', text)\n",
    "\n",
    "    # Hapus mention\n",
    "    text = re.sub(r'@\\w+', '', text)\n",
    "\n",
    "    # Hapus hashtag, hanya menyimpan kata setelah tanda #\n",
    "    text = re.sub(r'#', '', text)\n",
    "\n",
    "    # Hapus angka\n",
    "    text = re.sub(r'\\d+', '', text)\n",
    "\n",
    "    # Hapus tanda baca\n",
    "    text = text.translate(str.maketrans('', '', string.punctuation))\n",
    "\n",
    "    # Hapus emoji\n",
    "    text = emoji.replace_emoji(text, replace='')\n",
    "\n",
    "    # Hapus whitespace berlebih\n",
    "    text = re.sub(r'\\s+', ' ', text).strip()\n",
    "\n",
    "    # Ubah menjadi huruf kecil\n",
    "    text = text.lower()\n",
    "\n",
    "    return text"
   ]
  },
  {
   "cell_type": "code",
   "execution_count": null,
   "id": "3fb6e2b2",
   "metadata": {},
   "outputs": [
    {
     "data": {
      "application/vnd.microsoft.datawrangler.viewer.v0+json": {
       "columns": [
        {
         "name": "index",
         "rawType": "int64",
         "type": "integer"
        },
        {
         "name": "created_at",
         "rawType": "object",
         "type": "string"
        },
        {
         "name": "full_text",
         "rawType": "object",
         "type": "string"
        }
       ],
       "ref": "33b20e2d-f876-41d8-82e1-0e1f1e6a563c",
       "rows": [
        [
         "0",
         "04/01/2024",
         "IHSG ditutup All Time High pada level 7.359 76. Melonjak sebesar +1 108% https://t.co/Oh1HNNbkOI"
        ],
        [
         "1",
         "04/01/2024",
         "Penutupan all time high IHSG 4 Januari 2024. https://t.co/Tag0aUkdW1"
        ],
        [
         "2",
         "06/01/2024",
         "Baru minggu pertama di Januari 2024 asing mencatat net buy hingga Rp 1 T lebih dan IHSG sudah all time high baru di 7359 Rencana pemangkasan suku bunga kurs Rp menguat terhadap USD turunnya harga minyak juga menjadi sentimen positif Apakah 2024 bisa menjadi tahunnya saham? https://t.co/hWxjMvGznb"
        ],
        [
         "3",
         "02/01/2024",
         "Hari pertama perdagangan 2024 harga penutupan IHSG memecahkan rekor tertinggi sepanjang masa! Tapi rekor all-time-high intraday IHSG belum pecah di 7.355 (11 April 2022). https://t.co/8WurZN3O5g"
        ],
        [
         "4",
         "04/01/2024",
         "Akhirnya Indeks Harga Saham Gabungan atau IHSG mencatatkan all time high baru pada 4 Januari 2024 di 7.359 76. Semoga bursa saham Indonesia semakin ramai transaksinya. https://t.co/Pwz1F55HBH"
        ],
        [
         "5",
         "05/01/2024",
         "IHSG sempat ATH porto mimin malah ATL IHSG cetak rekor baru dalam bursa hari ini setelah sentuh level 7.402 14 secara intraday. Kenaikan harga saham big banks &amp; IHSG tersebut didorong oleh aksi net buy asing dengan inflow selama pekan pertama Januari 2024 mencapai Rp2 87 T. https://t.co/ErVqQtfBvP"
        ],
        [
         "6",
         "02/01/2024",
         "#IDXGoodNews! Hari pertama perdagangan tahun 2024 ini BEI berhasil mencapai rekor IHSG dan kapitalisasi pasar tertinggi sepanjang sejarah Sobat IDX! Hal ini menunjukan optimisme pelaku pasar dan stakeholders pasar modal Indonesia dalam menghadapi tahun 2024. Nah gimana https://t.co/m5GA9DWGSt"
        ],
        [
         "7",
         "04/01/2024",
         "Baru sadar $IHSG hari ini hampir hit All Time High. Gimana portomu gan? Kalo ane malah All Time Low https://t.co/mpybCAnEsg"
        ],
        [
         "8",
         "04/01/2024",
         "Pada penutupan perdagangan hari ini (4 Januari 2024) IHSG dan kapitalisasi pasar berhasil mencapai harga tertingginya lagi nih Sobat IDX! Kalau berdasarkan analisis kamu kira-kira IHSG dan kapitalisasi pasar tahun ini bakalan naik setinggi apa ya? Coba tulis di komen ya! https://t.co/qPFvK2nYc9"
        ],
        [
         "9",
         "05/01/2024",
         "Tahun ini kayaknya IHSG akan terus pecah rekor all time high ya? Tadi aja sempat menembus 7.400"
        ],
        [
         "10",
         "11/01/2024",
         "Market Update IHSG ditutup menguat 0 38% pada Rabu (10/1) menjadi 7.227 3 namun kelompok 45 saham unggulan atau indeks LQ45 turun 0 1% menjadi 969 13. Di tengah penguatan IHSG jelang rilis data inflasi AS Tim Analis Bareksa merekomendasikan beberapa saham pilihan: https://t.co/DnXAwCkCC2"
        ],
        [
         "11",
         "11/01/2024",
         "IHSG Menguat Ikuti Bursa Kawasan Asia dan Global https://t.co/xkDB6SL8PJ #TempoBisnis"
        ],
        [
         "12",
         "11/01/2024",
         "IHSG Menguat di Sesi Pertama Hari Ini Saham GOTO Paling Banyak Diperdagangkan https://t.co/xH0CTNSP2R #TempoBisnis"
        ],
        [
         "13",
         "10/01/2024",
         "IHSG Berhasil Menguat Setelah Turun Tajam Kemarin Industri Sektoral Naik Paling Tinggi https://t.co/exwDXqhRRM #TempoBisnis"
        ],
        [
         "14",
         "07/01/2024",
         "Prediksi IHSG dan Sederet Rekomendasi Saham 8 Januari 2024 https://t.co/8z6yvfspZm"
        ],
        [
         "15",
         "09/01/2024",
         "Nilai tukar rupiah diprediksi akan melakukan konsolidasi setelah beberapa hari ini melemah terhadap dolar AS. Sementara Indeks Harga Saham Gabungan (IHSG) berpotensi rebound (menguat kembali). https://t.co/T4icE3Y2XP -ZM https://t.co/6aiPHmbHNb"
        ],
        [
         "16",
         "10/01/2024",
         "Market Update IHSG kembali melemah di hari kedua perdagangan pekan kedua di 2024 m akibat aksi ambil untung (profit taking) oleh pelaku pasar Di tengah pelemahan IHSG Tim Analis Bareksa merekomendasikan beberapa saham unggulan berikut: https://t.co/BdNzrXk6Ur"
        ],
        [
         "17",
         "09/01/2024",
         "Market Update Kinerja IHSG melemah pada Senin (8/1) IHSG tertekan aksi ambil untung setelah pekan lalu sempat mencatatkan rekor tertinggi sepanjang masa (all time high). Di tengah pelemahan IHSG Tim Analis Bareksa merekomendasikan beberapa saham pilihan: https://t.co/yDQrhKZehI"
        ],
        [
         "18",
         "11/01/2024",
         "IHSG Merosot ke 7.219 Buntut 267 Saham Layu https://t.co/xP0zMm5FUh"
        ],
        [
         "19",
         "12/01/2024",
         "IHSG Berpeluang Menguat Cermati Saham-Saham Ini https://t.co/MhCydqFd2o https://t.co/5WFNd72sNr"
        ],
        [
         "20",
         "11/01/2024",
         "IHSG Diprediksi Terkonsolidasi Cermati Saham-Saham Ini https://t.co/Mjd9t5cdg9 https://t.co/vzS6SvSRmB"
        ],
        [
         "21",
         "10/01/2024",
         "IHSG Ditutup Menghijau Sektor Properti Justru Terjungkal https://t.co/kDYjgJi91N https://t.co/3kgQlvJ8Zj"
        ],
        [
         "22",
         "12/01/2024",
         "IHSG Akhir Pekan Ditutup Menghijau Sektor Energi Meningkat https://t.co/RsF21MiRPy https://t.co/NXHpbzZcN0"
        ],
        [
         "23",
         "08/01/2024",
         "Market Update IHSG dalam sepekan menguat 1 07% menjadi 7.350 61 dari pekan sebelumnya di 7.272 79. Di tengah penguatan IHSG di pekan I 2024 Tim Analis Bareksa merekomendasikan beberapa saham pilihan: https://t.co/GsKEE8maJy"
        ],
        [
         "24",
         "04/01/2024",
         "Prediksi IHSG dan Rekomendasi Saham Hari Ini 5 Januari 2024 https://t.co/4qpvLCoVUa"
        ],
        [
         "25",
         "10/01/2024",
         "IHSG Ditutup Menguat Dipicu Kenaikan Saham Kesehatan https://t.co/sl3esgLoEh"
        ],
        [
         "26",
         "11/01/2024",
         "IHSG Sesi I Ditutup di Zona Hijau Saham GOTO Terkerek 3 45% https://t.co/Oj6GaiOwxT"
        ],
        [
         "27",
         "03/01/2024",
         "Market Update Pasar saham Indonesia yang tercermin dari kinerja IHSG melesat 0 7% menjadi 7.323 59 pada Selasa (2/1/2024). Di tengah melesatnya IHSG hingga menembus rekor ATH Tim Analis Bareksa merekomendasikan beberapa saham pilihan: https://t.co/WoYNTWUz9l"
        ],
        [
         "28",
         "11/01/2024",
         "Prediksi IHSG dan Daftar Rekomendasi Saham 12 Januari 2023 https://t.co/S6ArmRwxaI"
        ],
        [
         "29",
         "09/01/2024",
         "Cadangan Devisa RI Kinclong Topang Penguatan IHSG Cek Saham-saham Berpotensi Cuan https://t.co/XtmmZAM6bu"
        ],
        [
         "30",
         "12/01/2024",
         "Asing Diam-diam Lepas 10 Saham Ini Kala IHSG Terkoreksi https://t.co/ykuBMYbcf5"
        ],
        [
         "31",
         "10/01/2024",
         "Asing Ramai-Ramai Buang Saham Ini Saat IHSG Anjlok 1 14% https://t.co/OFzPUPvGe6"
        ],
        [
         "32",
         "10/01/2024",
         "IHSG Bangkit dan Merangkak ke 7.227 Sore Ini https://t.co/RawkzwLoBT"
        ],
        [
         "33",
         "03/01/2024",
         "IHSG Diprediksi Menguat Cermati Rekomendasi Saham Berikut https://t.co/fm4W4vbYPV"
        ],
        [
         "34",
         "10/01/2024",
         "IHSG Ditutup Sumringah 6 Emiten Ini Jadi Penopang https://t.co/gPdampj8ix"
        ],
        [
         "35",
         "10/01/2024",
         "IHSG Ambruk 1 14% Asing Malah Borong Saham-Saham Ini https://t.co/eJdwvMNsxy"
        ],
        [
         "36",
         "10/01/2024",
         "Video: IHSG Berbalik Arah Gara-Gara January Effect? https://t.co/bqsTTta3b1"
        ],
        [
         "37",
         "12/01/2024",
         "IHSG Kinclong Jelang Akhir Pekan Saat Bursa Asia Mayoritas Melemah https://t.co/67Phqb3c6k"
        ],
        [
         "38",
         "12/01/2024",
         "IHSG Ditutup Berseri di Level 7.241 Akhir Pekan Ini https://t.co/BJz8sCJGDN"
        ],
        [
         "39",
         "12/01/2024",
         "IPO $UNTD Ditawarkan publik 1 6 jtan lot(25%) Penawaran awal 170-240 Nilai Nominal 25 Modal saham 6 6 jt lot Incar Dana Rp 400 M Under Writer Mirae dan BRI Market cap Rp 1.6 T an Masuk papan pengembangan https://t.co/iD5JD9OOK6"
        ],
        [
         "40",
         "14/01/2024",
         "Weekly Report $IHSG Minggu ini sob! Ada saham kalian disini? https://t.co/AIr5cm1hYH"
        ],
        [
         "41",
         "12/01/2024",
         " tebak nasib sahamnya gimana? https://t.co/IpHMKOKetu"
        ],
        [
         "42",
         "02/01/2024",
         "Sepanjang periode 1 Januari - 28 Desember 2023 pasar saham yang tercermin dari IHSG telah menguat 6 62% ke level tertinggi 2023 di 7.303 didukung masuknya aliran dana asing Rp6 54 triliun Selengkapnya di https://t.co/YeyszHHiOy yaa! #Reksadana #SuperAppInvestasi https://t.co/oF45yMjoa1"
        ],
        [
         "43",
         "10/01/2024",
         "IHSG Rawan Terkoreksi Cermati Saham-Saham Ini https://t.co/qJEEVQEnKp https://t.co/ygaf8JMCPD"
        ],
        [
         "44",
         "09/01/2024",
         "Diwarnai Profit Taking Para Investor IHSG Ditutup Memerah https://t.co/CXCYvpvqF4 https://t.co/cYfeU1eJSj"
        ],
        [
         "45",
         "14/01/2024",
         "Mulai dah"
        ],
        [
         "46",
         "04/01/2024",
         "Selama tahun 2023 IHSG naik sebesar 6 15% didorong emiten-emiten LQ45 yang mampu mencatatkan kenaikan harga sahamnya. Namun ada juga emiten di LQ45 yang mencatatkan penurunan selama tahun kemarin. Bagaimana dengan portofoliomu? Apakah ada sahammu di sini? https://t.co/Eylne3ZVhJ"
        ],
        [
         "47",
         "08/01/2024",
         "IHSG selama 10 tahun pemerintahan SBY melonjak 489 29 persen. Sementara masa Jokowi hingga 5 Januari 46 persen. https://t.co/OslUFehbVc"
        ],
        [
         "48",
         "11/01/2024",
         "Melansir data RTI pada pukul 9.09 WIB IHSG berada pada level 7.251 35 atau naik 0 33 persen (24 poin) dibanding penutupan sebelumnya. https://t.co/fMkS8LaEP2"
        ],
        [
         "49",
         "10/01/2024",
         "Prediksi IHSG dan Daftar Rekomendasi Saham 11 Januari 2024 https://t.co/90ztoOYu9U"
        ]
       ],
       "shape": {
        "columns": 2,
        "rows": 4516
       }
      },
      "text/html": [
       "<div>\n",
       "<style scoped>\n",
       "    .dataframe tbody tr th:only-of-type {\n",
       "        vertical-align: middle;\n",
       "    }\n",
       "\n",
       "    .dataframe tbody tr th {\n",
       "        vertical-align: top;\n",
       "    }\n",
       "\n",
       "    .dataframe thead th {\n",
       "        text-align: right;\n",
       "    }\n",
       "</style>\n",
       "<table border=\"1\" class=\"dataframe\">\n",
       "  <thead>\n",
       "    <tr style=\"text-align: right;\">\n",
       "      <th></th>\n",
       "      <th>created_at</th>\n",
       "      <th>full_text</th>\n",
       "    </tr>\n",
       "  </thead>\n",
       "  <tbody>\n",
       "    <tr>\n",
       "      <th>0</th>\n",
       "      <td>04/01/2024</td>\n",
       "      <td>IHSG ditutup All Time High pada level 7.359 76...</td>\n",
       "    </tr>\n",
       "    <tr>\n",
       "      <th>1</th>\n",
       "      <td>04/01/2024</td>\n",
       "      <td>Penutupan all time high IHSG 4 Januari 2024. h...</td>\n",
       "    </tr>\n",
       "    <tr>\n",
       "      <th>2</th>\n",
       "      <td>06/01/2024</td>\n",
       "      <td>Baru minggu pertama di Januari 2024 asing menc...</td>\n",
       "    </tr>\n",
       "    <tr>\n",
       "      <th>3</th>\n",
       "      <td>02/01/2024</td>\n",
       "      <td>Hari pertama perdagangan 2024 harga penutupan ...</td>\n",
       "    </tr>\n",
       "    <tr>\n",
       "      <th>4</th>\n",
       "      <td>04/01/2024</td>\n",
       "      <td>Akhirnya Indeks Harga Saham Gabungan atau IHSG...</td>\n",
       "    </tr>\n",
       "    <tr>\n",
       "      <th>...</th>\n",
       "      <td>...</td>\n",
       "      <td>...</td>\n",
       "    </tr>\n",
       "    <tr>\n",
       "      <th>4511</th>\n",
       "      <td>26/05/2025</td>\n",
       "      <td>IHSG diprediksi akan bergerak bervariasi cende...</td>\n",
       "    </tr>\n",
       "    <tr>\n",
       "      <th>4512</th>\n",
       "      <td>28/05/2025</td>\n",
       "      <td>#IHSG kembali menguat di zona hijau pagi ini. ...</td>\n",
       "    </tr>\n",
       "    <tr>\n",
       "      <th>4513</th>\n",
       "      <td>27/05/2025</td>\n",
       "      <td>#IHSG mengalami penguatan pada pagi ini. Bagai...</td>\n",
       "    </tr>\n",
       "    <tr>\n",
       "      <th>4514</th>\n",
       "      <td>27/05/2025</td>\n",
       "      <td>IHSG ditutup menguat 10 62 poin atau 0 15 pers...</td>\n",
       "    </tr>\n",
       "    <tr>\n",
       "      <th>4515</th>\n",
       "      <td>23/05/2025</td>\n",
       "      <td>IHSG Naik 036% ke 7.192 Top Gainers LQ45: INCO...</td>\n",
       "    </tr>\n",
       "  </tbody>\n",
       "</table>\n",
       "<p>4516 rows × 2 columns</p>\n",
       "</div>"
      ],
      "text/plain": [
       "      created_at                                          full_text\n",
       "0     04/01/2024  IHSG ditutup All Time High pada level 7.359 76...\n",
       "1     04/01/2024  Penutupan all time high IHSG 4 Januari 2024. h...\n",
       "2     06/01/2024  Baru minggu pertama di Januari 2024 asing menc...\n",
       "3     02/01/2024  Hari pertama perdagangan 2024 harga penutupan ...\n",
       "4     04/01/2024  Akhirnya Indeks Harga Saham Gabungan atau IHSG...\n",
       "...          ...                                                ...\n",
       "4511  26/05/2025  IHSG diprediksi akan bergerak bervariasi cende...\n",
       "4512  28/05/2025  #IHSG kembali menguat di zona hijau pagi ini. ...\n",
       "4513  27/05/2025  #IHSG mengalami penguatan pada pagi ini. Bagai...\n",
       "4514  27/05/2025  IHSG ditutup menguat 10 62 poin atau 0 15 pers...\n",
       "4515  23/05/2025  IHSG Naik 036% ke 7.192 Top Gainers LQ45: INCO...\n",
       "\n",
       "[4516 rows x 2 columns]"
      ]
     },
     "execution_count": 3,
     "metadata": {},
     "output_type": "execute_result"
    }
   ],
   "source": [
    "# import data\n",
    "data = pd.read_csv(r\"F:\\Willy's Project\\Project\\Sentiment Analysis and Stock Forecasting\\data\\text_data_merged.csv\")\n",
    "data"
   ]
  },
  {
   "cell_type": "code",
   "execution_count": 4,
   "id": "d772f393",
   "metadata": {},
   "outputs": [],
   "source": [
    "# make sure full_text is string\n",
    "data['full_text'] = data['full_text'].astype(str)"
   ]
  },
  {
   "cell_type": "code",
   "execution_count": 5,
   "id": "e57fa90d",
   "metadata": {},
   "outputs": [],
   "source": [
    "# apply cleaning function\n",
    "data['cleaned_text'] = data['full_text'].apply(cleaning)"
   ]
  },
  {
   "cell_type": "code",
   "execution_count": 6,
   "id": "4236b862",
   "metadata": {},
   "outputs": [
    {
     "data": {
      "application/vnd.microsoft.datawrangler.viewer.v0+json": {
       "columns": [
        {
         "name": "index",
         "rawType": "int64",
         "type": "integer"
        },
        {
         "name": "created_at",
         "rawType": "object",
         "type": "string"
        },
        {
         "name": "full_text",
         "rawType": "object",
         "type": "string"
        },
        {
         "name": "cleaned_text",
         "rawType": "object",
         "type": "string"
        }
       ],
       "ref": "ba3974c6-dfd9-40e9-a4ff-094fbb5cf6ce",
       "rows": [
        [
         "0",
         "04/01/2024",
         "IHSG ditutup All Time High pada level 7.359 76. Melonjak sebesar +1 108% https://t.co/Oh1HNNbkOI",
         "ihsg ditutup all time high pada level melonjak sebesar"
        ],
        [
         "1",
         "04/01/2024",
         "Penutupan all time high IHSG 4 Januari 2024. https://t.co/Tag0aUkdW1",
         "penutupan all time high ihsg januari"
        ],
        [
         "2",
         "06/01/2024",
         "Baru minggu pertama di Januari 2024 asing mencatat net buy hingga Rp 1 T lebih dan IHSG sudah all time high baru di 7359 Rencana pemangkasan suku bunga kurs Rp menguat terhadap USD turunnya harga minyak juga menjadi sentimen positif Apakah 2024 bisa menjadi tahunnya saham? https://t.co/hWxjMvGznb",
         "baru minggu pertama di januari asing mencatat net buy hingga rp t lebih dan ihsg sudah all time high baru di rencana pemangkasan suku bunga kurs rp menguat terhadap usd turunnya harga minyak juga menjadi sentimen positif apakah bisa menjadi tahunnya saham"
        ],
        [
         "3",
         "02/01/2024",
         "Hari pertama perdagangan 2024 harga penutupan IHSG memecahkan rekor tertinggi sepanjang masa! Tapi rekor all-time-high intraday IHSG belum pecah di 7.355 (11 April 2022). https://t.co/8WurZN3O5g",
         "hari pertama perdagangan harga penutupan ihsg memecahkan rekor tertinggi sepanjang masa tapi rekor alltimehigh intraday ihsg belum pecah di april"
        ],
        [
         "4",
         "04/01/2024",
         "Akhirnya Indeks Harga Saham Gabungan atau IHSG mencatatkan all time high baru pada 4 Januari 2024 di 7.359 76. Semoga bursa saham Indonesia semakin ramai transaksinya. https://t.co/Pwz1F55HBH",
         "akhirnya indeks harga saham gabungan atau ihsg mencatatkan all time high baru pada januari di semoga bursa saham indonesia semakin ramai transaksinya"
        ],
        [
         "5",
         "05/01/2024",
         "IHSG sempat ATH porto mimin malah ATL IHSG cetak rekor baru dalam bursa hari ini setelah sentuh level 7.402 14 secara intraday. Kenaikan harga saham big banks &amp; IHSG tersebut didorong oleh aksi net buy asing dengan inflow selama pekan pertama Januari 2024 mencapai Rp2 87 T. https://t.co/ErVqQtfBvP",
         "ihsg sempat ath porto mimin malah atl ihsg cetak rekor baru dalam bursa hari ini setelah sentuh level secara intraday kenaikan harga saham big banks amp ihsg tersebut didorong oleh aksi net buy asing dengan inflow selama pekan pertama januari mencapai rp t"
        ],
        [
         "6",
         "02/01/2024",
         "#IDXGoodNews! Hari pertama perdagangan tahun 2024 ini BEI berhasil mencapai rekor IHSG dan kapitalisasi pasar tertinggi sepanjang sejarah Sobat IDX! Hal ini menunjukan optimisme pelaku pasar dan stakeholders pasar modal Indonesia dalam menghadapi tahun 2024. Nah gimana https://t.co/m5GA9DWGSt",
         "idxgoodnews hari pertama perdagangan tahun ini bei berhasil mencapai rekor ihsg dan kapitalisasi pasar tertinggi sepanjang sejarah sobat idx hal ini menunjukan optimisme pelaku pasar dan stakeholders pasar modal indonesia dalam menghadapi tahun nah gimana"
        ],
        [
         "7",
         "04/01/2024",
         "Baru sadar $IHSG hari ini hampir hit All Time High. Gimana portomu gan? Kalo ane malah All Time Low https://t.co/mpybCAnEsg",
         "baru sadar ihsg hari ini hampir hit all time high gimana portomu gan kalo ane malah all time low"
        ],
        [
         "8",
         "04/01/2024",
         "Pada penutupan perdagangan hari ini (4 Januari 2024) IHSG dan kapitalisasi pasar berhasil mencapai harga tertingginya lagi nih Sobat IDX! Kalau berdasarkan analisis kamu kira-kira IHSG dan kapitalisasi pasar tahun ini bakalan naik setinggi apa ya? Coba tulis di komen ya! https://t.co/qPFvK2nYc9",
         "pada penutupan perdagangan hari ini januari ihsg dan kapitalisasi pasar berhasil mencapai harga tertingginya lagi nih sobat idx kalau berdasarkan analisis kamu kirakira ihsg dan kapitalisasi pasar tahun ini bakalan naik setinggi apa ya coba tulis di komen ya"
        ],
        [
         "9",
         "05/01/2024",
         "Tahun ini kayaknya IHSG akan terus pecah rekor all time high ya? Tadi aja sempat menembus 7.400",
         "tahun ini kayaknya ihsg akan terus pecah rekor all time high ya tadi aja sempat menembus"
        ],
        [
         "10",
         "11/01/2024",
         "Market Update IHSG ditutup menguat 0 38% pada Rabu (10/1) menjadi 7.227 3 namun kelompok 45 saham unggulan atau indeks LQ45 turun 0 1% menjadi 969 13. Di tengah penguatan IHSG jelang rilis data inflasi AS Tim Analis Bareksa merekomendasikan beberapa saham pilihan: https://t.co/DnXAwCkCC2",
         "market update ihsg ditutup menguat pada rabu menjadi namun kelompok saham unggulan atau indeks lq turun menjadi di tengah penguatan ihsg jelang rilis data inflasi as tim analis bareksa merekomendasikan beberapa saham pilihan"
        ],
        [
         "11",
         "11/01/2024",
         "IHSG Menguat Ikuti Bursa Kawasan Asia dan Global https://t.co/xkDB6SL8PJ #TempoBisnis",
         "ihsg menguat ikuti bursa kawasan asia dan global tempobisnis"
        ],
        [
         "12",
         "11/01/2024",
         "IHSG Menguat di Sesi Pertama Hari Ini Saham GOTO Paling Banyak Diperdagangkan https://t.co/xH0CTNSP2R #TempoBisnis",
         "ihsg menguat di sesi pertama hari ini saham goto paling banyak diperdagangkan tempobisnis"
        ],
        [
         "13",
         "10/01/2024",
         "IHSG Berhasil Menguat Setelah Turun Tajam Kemarin Industri Sektoral Naik Paling Tinggi https://t.co/exwDXqhRRM #TempoBisnis",
         "ihsg berhasil menguat setelah turun tajam kemarin industri sektoral naik paling tinggi tempobisnis"
        ],
        [
         "14",
         "07/01/2024",
         "Prediksi IHSG dan Sederet Rekomendasi Saham 8 Januari 2024 https://t.co/8z6yvfspZm",
         "prediksi ihsg dan sederet rekomendasi saham januari"
        ],
        [
         "15",
         "09/01/2024",
         "Nilai tukar rupiah diprediksi akan melakukan konsolidasi setelah beberapa hari ini melemah terhadap dolar AS. Sementara Indeks Harga Saham Gabungan (IHSG) berpotensi rebound (menguat kembali). https://t.co/T4icE3Y2XP -ZM https://t.co/6aiPHmbHNb",
         "nilai tukar rupiah diprediksi akan melakukan konsolidasi setelah beberapa hari ini melemah terhadap dolar as sementara indeks harga saham gabungan ihsg berpotensi rebound menguat kembali zm"
        ],
        [
         "16",
         "10/01/2024",
         "Market Update IHSG kembali melemah di hari kedua perdagangan pekan kedua di 2024 m akibat aksi ambil untung (profit taking) oleh pelaku pasar Di tengah pelemahan IHSG Tim Analis Bareksa merekomendasikan beberapa saham unggulan berikut: https://t.co/BdNzrXk6Ur",
         "market update ihsg kembali melemah di hari kedua perdagangan pekan kedua di m akibat aksi ambil untung profit taking oleh pelaku pasar di tengah pelemahan ihsg tim analis bareksa merekomendasikan beberapa saham unggulan berikut"
        ],
        [
         "17",
         "09/01/2024",
         "Market Update Kinerja IHSG melemah pada Senin (8/1) IHSG tertekan aksi ambil untung setelah pekan lalu sempat mencatatkan rekor tertinggi sepanjang masa (all time high). Di tengah pelemahan IHSG Tim Analis Bareksa merekomendasikan beberapa saham pilihan: https://t.co/yDQrhKZehI",
         "market update kinerja ihsg melemah pada senin ihsg tertekan aksi ambil untung setelah pekan lalu sempat mencatatkan rekor tertinggi sepanjang masa all time high di tengah pelemahan ihsg tim analis bareksa merekomendasikan beberapa saham pilihan"
        ],
        [
         "18",
         "11/01/2024",
         "IHSG Merosot ke 7.219 Buntut 267 Saham Layu https://t.co/xP0zMm5FUh",
         "ihsg merosot ke buntut saham layu"
        ],
        [
         "19",
         "12/01/2024",
         "IHSG Berpeluang Menguat Cermati Saham-Saham Ini https://t.co/MhCydqFd2o https://t.co/5WFNd72sNr",
         "ihsg berpeluang menguat cermati sahamsaham ini"
        ],
        [
         "20",
         "11/01/2024",
         "IHSG Diprediksi Terkonsolidasi Cermati Saham-Saham Ini https://t.co/Mjd9t5cdg9 https://t.co/vzS6SvSRmB",
         "ihsg diprediksi terkonsolidasi cermati sahamsaham ini"
        ],
        [
         "21",
         "10/01/2024",
         "IHSG Ditutup Menghijau Sektor Properti Justru Terjungkal https://t.co/kDYjgJi91N https://t.co/3kgQlvJ8Zj",
         "ihsg ditutup menghijau sektor properti justru terjungkal"
        ],
        [
         "22",
         "12/01/2024",
         "IHSG Akhir Pekan Ditutup Menghijau Sektor Energi Meningkat https://t.co/RsF21MiRPy https://t.co/NXHpbzZcN0",
         "ihsg akhir pekan ditutup menghijau sektor energi meningkat"
        ],
        [
         "23",
         "08/01/2024",
         "Market Update IHSG dalam sepekan menguat 1 07% menjadi 7.350 61 dari pekan sebelumnya di 7.272 79. Di tengah penguatan IHSG di pekan I 2024 Tim Analis Bareksa merekomendasikan beberapa saham pilihan: https://t.co/GsKEE8maJy",
         "market update ihsg dalam sepekan menguat menjadi dari pekan sebelumnya di di tengah penguatan ihsg di pekan i tim analis bareksa merekomendasikan beberapa saham pilihan"
        ],
        [
         "24",
         "04/01/2024",
         "Prediksi IHSG dan Rekomendasi Saham Hari Ini 5 Januari 2024 https://t.co/4qpvLCoVUa",
         "prediksi ihsg dan rekomendasi saham hari ini januari"
        ],
        [
         "25",
         "10/01/2024",
         "IHSG Ditutup Menguat Dipicu Kenaikan Saham Kesehatan https://t.co/sl3esgLoEh",
         "ihsg ditutup menguat dipicu kenaikan saham kesehatan"
        ],
        [
         "26",
         "11/01/2024",
         "IHSG Sesi I Ditutup di Zona Hijau Saham GOTO Terkerek 3 45% https://t.co/Oj6GaiOwxT",
         "ihsg sesi i ditutup di zona hijau saham goto terkerek"
        ],
        [
         "27",
         "03/01/2024",
         "Market Update Pasar saham Indonesia yang tercermin dari kinerja IHSG melesat 0 7% menjadi 7.323 59 pada Selasa (2/1/2024). Di tengah melesatnya IHSG hingga menembus rekor ATH Tim Analis Bareksa merekomendasikan beberapa saham pilihan: https://t.co/WoYNTWUz9l",
         "market update pasar saham indonesia yang tercermin dari kinerja ihsg melesat menjadi pada selasa di tengah melesatnya ihsg hingga menembus rekor ath tim analis bareksa merekomendasikan beberapa saham pilihan"
        ],
        [
         "28",
         "11/01/2024",
         "Prediksi IHSG dan Daftar Rekomendasi Saham 12 Januari 2023 https://t.co/S6ArmRwxaI",
         "prediksi ihsg dan daftar rekomendasi saham januari"
        ],
        [
         "29",
         "09/01/2024",
         "Cadangan Devisa RI Kinclong Topang Penguatan IHSG Cek Saham-saham Berpotensi Cuan https://t.co/XtmmZAM6bu",
         "cadangan devisa ri kinclong topang penguatan ihsg cek sahamsaham berpotensi cuan"
        ],
        [
         "30",
         "12/01/2024",
         "Asing Diam-diam Lepas 10 Saham Ini Kala IHSG Terkoreksi https://t.co/ykuBMYbcf5",
         "asing diamdiam lepas saham ini kala ihsg terkoreksi"
        ],
        [
         "31",
         "10/01/2024",
         "Asing Ramai-Ramai Buang Saham Ini Saat IHSG Anjlok 1 14% https://t.co/OFzPUPvGe6",
         "asing ramairamai buang saham ini saat ihsg anjlok"
        ],
        [
         "32",
         "10/01/2024",
         "IHSG Bangkit dan Merangkak ke 7.227 Sore Ini https://t.co/RawkzwLoBT",
         "ihsg bangkit dan merangkak ke sore ini"
        ],
        [
         "33",
         "03/01/2024",
         "IHSG Diprediksi Menguat Cermati Rekomendasi Saham Berikut https://t.co/fm4W4vbYPV",
         "ihsg diprediksi menguat cermati rekomendasi saham berikut"
        ],
        [
         "34",
         "10/01/2024",
         "IHSG Ditutup Sumringah 6 Emiten Ini Jadi Penopang https://t.co/gPdampj8ix",
         "ihsg ditutup sumringah emiten ini jadi penopang"
        ],
        [
         "35",
         "10/01/2024",
         "IHSG Ambruk 1 14% Asing Malah Borong Saham-Saham Ini https://t.co/eJdwvMNsxy",
         "ihsg ambruk asing malah borong sahamsaham ini"
        ],
        [
         "36",
         "10/01/2024",
         "Video: IHSG Berbalik Arah Gara-Gara January Effect? https://t.co/bqsTTta3b1",
         "video ihsg berbalik arah garagara january effect"
        ],
        [
         "37",
         "12/01/2024",
         "IHSG Kinclong Jelang Akhir Pekan Saat Bursa Asia Mayoritas Melemah https://t.co/67Phqb3c6k",
         "ihsg kinclong jelang akhir pekan saat bursa asia mayoritas melemah"
        ],
        [
         "38",
         "12/01/2024",
         "IHSG Ditutup Berseri di Level 7.241 Akhir Pekan Ini https://t.co/BJz8sCJGDN",
         "ihsg ditutup berseri di level akhir pekan ini"
        ],
        [
         "39",
         "12/01/2024",
         "IPO $UNTD Ditawarkan publik 1 6 jtan lot(25%) Penawaran awal 170-240 Nilai Nominal 25 Modal saham 6 6 jt lot Incar Dana Rp 400 M Under Writer Mirae dan BRI Market cap Rp 1.6 T an Masuk papan pengembangan https://t.co/iD5JD9OOK6",
         "ipo untd ditawarkan publik jtan lot penawaran awal nilai nominal modal saham jt lot incar dana rp m under writer mirae dan bri market cap rp t an masuk papan pengembangan"
        ],
        [
         "40",
         "14/01/2024",
         "Weekly Report $IHSG Minggu ini sob! Ada saham kalian disini? https://t.co/AIr5cm1hYH",
         "weekly report ihsg minggu ini sob ada saham kalian disini"
        ],
        [
         "41",
         "12/01/2024",
         " tebak nasib sahamnya gimana? https://t.co/IpHMKOKetu",
         "tebak nasib sahamnya gimana"
        ],
        [
         "42",
         "02/01/2024",
         "Sepanjang periode 1 Januari - 28 Desember 2023 pasar saham yang tercermin dari IHSG telah menguat 6 62% ke level tertinggi 2023 di 7.303 didukung masuknya aliran dana asing Rp6 54 triliun Selengkapnya di https://t.co/YeyszHHiOy yaa! #Reksadana #SuperAppInvestasi https://t.co/oF45yMjoa1",
         "sepanjang periode januari desember pasar saham yang tercermin dari ihsg telah menguat ke level tertinggi di didukung masuknya aliran dana asing rp triliun selengkapnya di yaa reksadana superappinvestasi"
        ],
        [
         "43",
         "10/01/2024",
         "IHSG Rawan Terkoreksi Cermati Saham-Saham Ini https://t.co/qJEEVQEnKp https://t.co/ygaf8JMCPD",
         "ihsg rawan terkoreksi cermati sahamsaham ini"
        ],
        [
         "44",
         "09/01/2024",
         "Diwarnai Profit Taking Para Investor IHSG Ditutup Memerah https://t.co/CXCYvpvqF4 https://t.co/cYfeU1eJSj",
         "diwarnai profit taking para investor ihsg ditutup memerah"
        ],
        [
         "45",
         "14/01/2024",
         "Mulai dah",
         "mulai dah"
        ],
        [
         "46",
         "04/01/2024",
         "Selama tahun 2023 IHSG naik sebesar 6 15% didorong emiten-emiten LQ45 yang mampu mencatatkan kenaikan harga sahamnya. Namun ada juga emiten di LQ45 yang mencatatkan penurunan selama tahun kemarin. Bagaimana dengan portofoliomu? Apakah ada sahammu di sini? https://t.co/Eylne3ZVhJ",
         "selama tahun ihsg naik sebesar didorong emitenemiten lq yang mampu mencatatkan kenaikan harga sahamnya namun ada juga emiten di lq yang mencatatkan penurunan selama tahun kemarin bagaimana dengan portofoliomu apakah ada sahammu di sini"
        ],
        [
         "47",
         "08/01/2024",
         "IHSG selama 10 tahun pemerintahan SBY melonjak 489 29 persen. Sementara masa Jokowi hingga 5 Januari 46 persen. https://t.co/OslUFehbVc",
         "ihsg selama tahun pemerintahan sby melonjak persen sementara masa jokowi hingga januari persen"
        ],
        [
         "48",
         "11/01/2024",
         "Melansir data RTI pada pukul 9.09 WIB IHSG berada pada level 7.251 35 atau naik 0 33 persen (24 poin) dibanding penutupan sebelumnya. https://t.co/fMkS8LaEP2",
         "melansir data rti pada pukul wib ihsg berada pada level atau naik persen poin dibanding penutupan sebelumnya"
        ],
        [
         "49",
         "10/01/2024",
         "Prediksi IHSG dan Daftar Rekomendasi Saham 11 Januari 2024 https://t.co/90ztoOYu9U",
         "prediksi ihsg dan daftar rekomendasi saham januari"
        ]
       ],
       "shape": {
        "columns": 3,
        "rows": 4516
       }
      },
      "text/html": [
       "<div>\n",
       "<style scoped>\n",
       "    .dataframe tbody tr th:only-of-type {\n",
       "        vertical-align: middle;\n",
       "    }\n",
       "\n",
       "    .dataframe tbody tr th {\n",
       "        vertical-align: top;\n",
       "    }\n",
       "\n",
       "    .dataframe thead th {\n",
       "        text-align: right;\n",
       "    }\n",
       "</style>\n",
       "<table border=\"1\" class=\"dataframe\">\n",
       "  <thead>\n",
       "    <tr style=\"text-align: right;\">\n",
       "      <th></th>\n",
       "      <th>created_at</th>\n",
       "      <th>full_text</th>\n",
       "      <th>cleaned_text</th>\n",
       "    </tr>\n",
       "  </thead>\n",
       "  <tbody>\n",
       "    <tr>\n",
       "      <th>0</th>\n",
       "      <td>04/01/2024</td>\n",
       "      <td>IHSG ditutup All Time High pada level 7.359 76...</td>\n",
       "      <td>ihsg ditutup all time high pada level melonjak...</td>\n",
       "    </tr>\n",
       "    <tr>\n",
       "      <th>1</th>\n",
       "      <td>04/01/2024</td>\n",
       "      <td>Penutupan all time high IHSG 4 Januari 2024. h...</td>\n",
       "      <td>penutupan all time high ihsg januari</td>\n",
       "    </tr>\n",
       "    <tr>\n",
       "      <th>2</th>\n",
       "      <td>06/01/2024</td>\n",
       "      <td>Baru minggu pertama di Januari 2024 asing menc...</td>\n",
       "      <td>baru minggu pertama di januari asing mencatat ...</td>\n",
       "    </tr>\n",
       "    <tr>\n",
       "      <th>3</th>\n",
       "      <td>02/01/2024</td>\n",
       "      <td>Hari pertama perdagangan 2024 harga penutupan ...</td>\n",
       "      <td>hari pertama perdagangan harga penutupan ihsg ...</td>\n",
       "    </tr>\n",
       "    <tr>\n",
       "      <th>4</th>\n",
       "      <td>04/01/2024</td>\n",
       "      <td>Akhirnya Indeks Harga Saham Gabungan atau IHSG...</td>\n",
       "      <td>akhirnya indeks harga saham gabungan atau ihsg...</td>\n",
       "    </tr>\n",
       "    <tr>\n",
       "      <th>...</th>\n",
       "      <td>...</td>\n",
       "      <td>...</td>\n",
       "      <td>...</td>\n",
       "    </tr>\n",
       "    <tr>\n",
       "      <th>4511</th>\n",
       "      <td>26/05/2025</td>\n",
       "      <td>IHSG diprediksi akan bergerak bervariasi cende...</td>\n",
       "      <td>ihsg diprediksi akan bergerak bervariasi cende...</td>\n",
       "    </tr>\n",
       "    <tr>\n",
       "      <th>4512</th>\n",
       "      <td>28/05/2025</td>\n",
       "      <td>#IHSG kembali menguat di zona hijau pagi ini. ...</td>\n",
       "      <td>ihsg kembali menguat di zona hijau pagi ini si...</td>\n",
       "    </tr>\n",
       "    <tr>\n",
       "      <th>4513</th>\n",
       "      <td>27/05/2025</td>\n",
       "      <td>#IHSG mengalami penguatan pada pagi ini. Bagai...</td>\n",
       "      <td>ihsg mengalami penguatan pada pagi ini bagaima...</td>\n",
       "    </tr>\n",
       "    <tr>\n",
       "      <th>4514</th>\n",
       "      <td>27/05/2025</td>\n",
       "      <td>IHSG ditutup menguat 10 62 poin atau 0 15 pers...</td>\n",
       "      <td>ihsg ditutup menguat poin atau persen ke posis...</td>\n",
       "    </tr>\n",
       "    <tr>\n",
       "      <th>4515</th>\n",
       "      <td>23/05/2025</td>\n",
       "      <td>IHSG Naik 036% ke 7.192 Top Gainers LQ45: INCO...</td>\n",
       "      <td>ihsg naik ke top gainers lq inco asii mbma di ...</td>\n",
       "    </tr>\n",
       "  </tbody>\n",
       "</table>\n",
       "<p>4516 rows × 3 columns</p>\n",
       "</div>"
      ],
      "text/plain": [
       "      created_at                                          full_text  \\\n",
       "0     04/01/2024  IHSG ditutup All Time High pada level 7.359 76...   \n",
       "1     04/01/2024  Penutupan all time high IHSG 4 Januari 2024. h...   \n",
       "2     06/01/2024  Baru minggu pertama di Januari 2024 asing menc...   \n",
       "3     02/01/2024  Hari pertama perdagangan 2024 harga penutupan ...   \n",
       "4     04/01/2024  Akhirnya Indeks Harga Saham Gabungan atau IHSG...   \n",
       "...          ...                                                ...   \n",
       "4511  26/05/2025  IHSG diprediksi akan bergerak bervariasi cende...   \n",
       "4512  28/05/2025  #IHSG kembali menguat di zona hijau pagi ini. ...   \n",
       "4513  27/05/2025  #IHSG mengalami penguatan pada pagi ini. Bagai...   \n",
       "4514  27/05/2025  IHSG ditutup menguat 10 62 poin atau 0 15 pers...   \n",
       "4515  23/05/2025  IHSG Naik 036% ke 7.192 Top Gainers LQ45: INCO...   \n",
       "\n",
       "                                           cleaned_text  \n",
       "0     ihsg ditutup all time high pada level melonjak...  \n",
       "1                  penutupan all time high ihsg januari  \n",
       "2     baru minggu pertama di januari asing mencatat ...  \n",
       "3     hari pertama perdagangan harga penutupan ihsg ...  \n",
       "4     akhirnya indeks harga saham gabungan atau ihsg...  \n",
       "...                                                 ...  \n",
       "4511  ihsg diprediksi akan bergerak bervariasi cende...  \n",
       "4512  ihsg kembali menguat di zona hijau pagi ini si...  \n",
       "4513  ihsg mengalami penguatan pada pagi ini bagaima...  \n",
       "4514  ihsg ditutup menguat poin atau persen ke posis...  \n",
       "4515  ihsg naik ke top gainers lq inco asii mbma di ...  \n",
       "\n",
       "[4516 rows x 3 columns]"
      ]
     },
     "execution_count": 6,
     "metadata": {},
     "output_type": "execute_result"
    }
   ],
   "source": [
    "data"
   ]
  },
  {
   "cell_type": "code",
   "execution_count": 7,
   "id": "5aaad8c6",
   "metadata": {},
   "outputs": [],
   "source": [
    "# delete full_text column\n",
    "data = data.drop(columns=['full_text'])"
   ]
  },
  {
   "cell_type": "code",
   "execution_count": 8,
   "id": "a98fe4fa",
   "metadata": {},
   "outputs": [],
   "source": [
    "# rename cleaned_text column and created_at column\n",
    "data = data.rename(columns={'cleaned_text': 'Text', 'created_at': 'Tanggal'})"
   ]
  },
  {
   "cell_type": "code",
   "execution_count": 9,
   "id": "7522eabc",
   "metadata": {},
   "outputs": [
    {
     "data": {
      "application/vnd.microsoft.datawrangler.viewer.v0+json": {
       "columns": [
        {
         "name": "index",
         "rawType": "int64",
         "type": "integer"
        },
        {
         "name": "Tanggal",
         "rawType": "object",
         "type": "string"
        },
        {
         "name": "Text",
         "rawType": "object",
         "type": "string"
        }
       ],
       "ref": "42f56c13-a0e5-4f2c-96b6-fb33df0d9dec",
       "rows": [
        [
         "0",
         "04/01/2024",
         "ihsg ditutup all time high pada level melonjak sebesar"
        ],
        [
         "1",
         "04/01/2024",
         "penutupan all time high ihsg januari"
        ],
        [
         "2",
         "06/01/2024",
         "baru minggu pertama di januari asing mencatat net buy hingga rp t lebih dan ihsg sudah all time high baru di rencana pemangkasan suku bunga kurs rp menguat terhadap usd turunnya harga minyak juga menjadi sentimen positif apakah bisa menjadi tahunnya saham"
        ],
        [
         "3",
         "02/01/2024",
         "hari pertama perdagangan harga penutupan ihsg memecahkan rekor tertinggi sepanjang masa tapi rekor alltimehigh intraday ihsg belum pecah di april"
        ],
        [
         "4",
         "04/01/2024",
         "akhirnya indeks harga saham gabungan atau ihsg mencatatkan all time high baru pada januari di semoga bursa saham indonesia semakin ramai transaksinya"
        ],
        [
         "5",
         "05/01/2024",
         "ihsg sempat ath porto mimin malah atl ihsg cetak rekor baru dalam bursa hari ini setelah sentuh level secara intraday kenaikan harga saham big banks amp ihsg tersebut didorong oleh aksi net buy asing dengan inflow selama pekan pertama januari mencapai rp t"
        ],
        [
         "6",
         "02/01/2024",
         "idxgoodnews hari pertama perdagangan tahun ini bei berhasil mencapai rekor ihsg dan kapitalisasi pasar tertinggi sepanjang sejarah sobat idx hal ini menunjukan optimisme pelaku pasar dan stakeholders pasar modal indonesia dalam menghadapi tahun nah gimana"
        ],
        [
         "7",
         "04/01/2024",
         "baru sadar ihsg hari ini hampir hit all time high gimana portomu gan kalo ane malah all time low"
        ],
        [
         "8",
         "04/01/2024",
         "pada penutupan perdagangan hari ini januari ihsg dan kapitalisasi pasar berhasil mencapai harga tertingginya lagi nih sobat idx kalau berdasarkan analisis kamu kirakira ihsg dan kapitalisasi pasar tahun ini bakalan naik setinggi apa ya coba tulis di komen ya"
        ],
        [
         "9",
         "05/01/2024",
         "tahun ini kayaknya ihsg akan terus pecah rekor all time high ya tadi aja sempat menembus"
        ],
        [
         "10",
         "11/01/2024",
         "market update ihsg ditutup menguat pada rabu menjadi namun kelompok saham unggulan atau indeks lq turun menjadi di tengah penguatan ihsg jelang rilis data inflasi as tim analis bareksa merekomendasikan beberapa saham pilihan"
        ],
        [
         "11",
         "11/01/2024",
         "ihsg menguat ikuti bursa kawasan asia dan global tempobisnis"
        ],
        [
         "12",
         "11/01/2024",
         "ihsg menguat di sesi pertama hari ini saham goto paling banyak diperdagangkan tempobisnis"
        ],
        [
         "13",
         "10/01/2024",
         "ihsg berhasil menguat setelah turun tajam kemarin industri sektoral naik paling tinggi tempobisnis"
        ],
        [
         "14",
         "07/01/2024",
         "prediksi ihsg dan sederet rekomendasi saham januari"
        ],
        [
         "15",
         "09/01/2024",
         "nilai tukar rupiah diprediksi akan melakukan konsolidasi setelah beberapa hari ini melemah terhadap dolar as sementara indeks harga saham gabungan ihsg berpotensi rebound menguat kembali zm"
        ],
        [
         "16",
         "10/01/2024",
         "market update ihsg kembali melemah di hari kedua perdagangan pekan kedua di m akibat aksi ambil untung profit taking oleh pelaku pasar di tengah pelemahan ihsg tim analis bareksa merekomendasikan beberapa saham unggulan berikut"
        ],
        [
         "17",
         "09/01/2024",
         "market update kinerja ihsg melemah pada senin ihsg tertekan aksi ambil untung setelah pekan lalu sempat mencatatkan rekor tertinggi sepanjang masa all time high di tengah pelemahan ihsg tim analis bareksa merekomendasikan beberapa saham pilihan"
        ],
        [
         "18",
         "11/01/2024",
         "ihsg merosot ke buntut saham layu"
        ],
        [
         "19",
         "12/01/2024",
         "ihsg berpeluang menguat cermati sahamsaham ini"
        ],
        [
         "20",
         "11/01/2024",
         "ihsg diprediksi terkonsolidasi cermati sahamsaham ini"
        ],
        [
         "21",
         "10/01/2024",
         "ihsg ditutup menghijau sektor properti justru terjungkal"
        ],
        [
         "22",
         "12/01/2024",
         "ihsg akhir pekan ditutup menghijau sektor energi meningkat"
        ],
        [
         "23",
         "08/01/2024",
         "market update ihsg dalam sepekan menguat menjadi dari pekan sebelumnya di di tengah penguatan ihsg di pekan i tim analis bareksa merekomendasikan beberapa saham pilihan"
        ],
        [
         "24",
         "04/01/2024",
         "prediksi ihsg dan rekomendasi saham hari ini januari"
        ],
        [
         "25",
         "10/01/2024",
         "ihsg ditutup menguat dipicu kenaikan saham kesehatan"
        ],
        [
         "26",
         "11/01/2024",
         "ihsg sesi i ditutup di zona hijau saham goto terkerek"
        ],
        [
         "27",
         "03/01/2024",
         "market update pasar saham indonesia yang tercermin dari kinerja ihsg melesat menjadi pada selasa di tengah melesatnya ihsg hingga menembus rekor ath tim analis bareksa merekomendasikan beberapa saham pilihan"
        ],
        [
         "28",
         "11/01/2024",
         "prediksi ihsg dan daftar rekomendasi saham januari"
        ],
        [
         "29",
         "09/01/2024",
         "cadangan devisa ri kinclong topang penguatan ihsg cek sahamsaham berpotensi cuan"
        ],
        [
         "30",
         "12/01/2024",
         "asing diamdiam lepas saham ini kala ihsg terkoreksi"
        ],
        [
         "31",
         "10/01/2024",
         "asing ramairamai buang saham ini saat ihsg anjlok"
        ],
        [
         "32",
         "10/01/2024",
         "ihsg bangkit dan merangkak ke sore ini"
        ],
        [
         "33",
         "03/01/2024",
         "ihsg diprediksi menguat cermati rekomendasi saham berikut"
        ],
        [
         "34",
         "10/01/2024",
         "ihsg ditutup sumringah emiten ini jadi penopang"
        ],
        [
         "35",
         "10/01/2024",
         "ihsg ambruk asing malah borong sahamsaham ini"
        ],
        [
         "36",
         "10/01/2024",
         "video ihsg berbalik arah garagara january effect"
        ],
        [
         "37",
         "12/01/2024",
         "ihsg kinclong jelang akhir pekan saat bursa asia mayoritas melemah"
        ],
        [
         "38",
         "12/01/2024",
         "ihsg ditutup berseri di level akhir pekan ini"
        ],
        [
         "39",
         "12/01/2024",
         "ipo untd ditawarkan publik jtan lot penawaran awal nilai nominal modal saham jt lot incar dana rp m under writer mirae dan bri market cap rp t an masuk papan pengembangan"
        ],
        [
         "40",
         "14/01/2024",
         "weekly report ihsg minggu ini sob ada saham kalian disini"
        ],
        [
         "41",
         "12/01/2024",
         "tebak nasib sahamnya gimana"
        ],
        [
         "42",
         "02/01/2024",
         "sepanjang periode januari desember pasar saham yang tercermin dari ihsg telah menguat ke level tertinggi di didukung masuknya aliran dana asing rp triliun selengkapnya di yaa reksadana superappinvestasi"
        ],
        [
         "43",
         "10/01/2024",
         "ihsg rawan terkoreksi cermati sahamsaham ini"
        ],
        [
         "44",
         "09/01/2024",
         "diwarnai profit taking para investor ihsg ditutup memerah"
        ],
        [
         "45",
         "14/01/2024",
         "mulai dah"
        ],
        [
         "46",
         "04/01/2024",
         "selama tahun ihsg naik sebesar didorong emitenemiten lq yang mampu mencatatkan kenaikan harga sahamnya namun ada juga emiten di lq yang mencatatkan penurunan selama tahun kemarin bagaimana dengan portofoliomu apakah ada sahammu di sini"
        ],
        [
         "47",
         "08/01/2024",
         "ihsg selama tahun pemerintahan sby melonjak persen sementara masa jokowi hingga januari persen"
        ],
        [
         "48",
         "11/01/2024",
         "melansir data rti pada pukul wib ihsg berada pada level atau naik persen poin dibanding penutupan sebelumnya"
        ],
        [
         "49",
         "10/01/2024",
         "prediksi ihsg dan daftar rekomendasi saham januari"
        ]
       ],
       "shape": {
        "columns": 2,
        "rows": 4516
       }
      },
      "text/html": [
       "<div>\n",
       "<style scoped>\n",
       "    .dataframe tbody tr th:only-of-type {\n",
       "        vertical-align: middle;\n",
       "    }\n",
       "\n",
       "    .dataframe tbody tr th {\n",
       "        vertical-align: top;\n",
       "    }\n",
       "\n",
       "    .dataframe thead th {\n",
       "        text-align: right;\n",
       "    }\n",
       "</style>\n",
       "<table border=\"1\" class=\"dataframe\">\n",
       "  <thead>\n",
       "    <tr style=\"text-align: right;\">\n",
       "      <th></th>\n",
       "      <th>Tanggal</th>\n",
       "      <th>Text</th>\n",
       "    </tr>\n",
       "  </thead>\n",
       "  <tbody>\n",
       "    <tr>\n",
       "      <th>0</th>\n",
       "      <td>04/01/2024</td>\n",
       "      <td>ihsg ditutup all time high pada level melonjak...</td>\n",
       "    </tr>\n",
       "    <tr>\n",
       "      <th>1</th>\n",
       "      <td>04/01/2024</td>\n",
       "      <td>penutupan all time high ihsg januari</td>\n",
       "    </tr>\n",
       "    <tr>\n",
       "      <th>2</th>\n",
       "      <td>06/01/2024</td>\n",
       "      <td>baru minggu pertama di januari asing mencatat ...</td>\n",
       "    </tr>\n",
       "    <tr>\n",
       "      <th>3</th>\n",
       "      <td>02/01/2024</td>\n",
       "      <td>hari pertama perdagangan harga penutupan ihsg ...</td>\n",
       "    </tr>\n",
       "    <tr>\n",
       "      <th>4</th>\n",
       "      <td>04/01/2024</td>\n",
       "      <td>akhirnya indeks harga saham gabungan atau ihsg...</td>\n",
       "    </tr>\n",
       "    <tr>\n",
       "      <th>...</th>\n",
       "      <td>...</td>\n",
       "      <td>...</td>\n",
       "    </tr>\n",
       "    <tr>\n",
       "      <th>4511</th>\n",
       "      <td>26/05/2025</td>\n",
       "      <td>ihsg diprediksi akan bergerak bervariasi cende...</td>\n",
       "    </tr>\n",
       "    <tr>\n",
       "      <th>4512</th>\n",
       "      <td>28/05/2025</td>\n",
       "      <td>ihsg kembali menguat di zona hijau pagi ini si...</td>\n",
       "    </tr>\n",
       "    <tr>\n",
       "      <th>4513</th>\n",
       "      <td>27/05/2025</td>\n",
       "      <td>ihsg mengalami penguatan pada pagi ini bagaima...</td>\n",
       "    </tr>\n",
       "    <tr>\n",
       "      <th>4514</th>\n",
       "      <td>27/05/2025</td>\n",
       "      <td>ihsg ditutup menguat poin atau persen ke posis...</td>\n",
       "    </tr>\n",
       "    <tr>\n",
       "      <th>4515</th>\n",
       "      <td>23/05/2025</td>\n",
       "      <td>ihsg naik ke top gainers lq inco asii mbma di ...</td>\n",
       "    </tr>\n",
       "  </tbody>\n",
       "</table>\n",
       "<p>4516 rows × 2 columns</p>\n",
       "</div>"
      ],
      "text/plain": [
       "         Tanggal                                               Text\n",
       "0     04/01/2024  ihsg ditutup all time high pada level melonjak...\n",
       "1     04/01/2024               penutupan all time high ihsg januari\n",
       "2     06/01/2024  baru minggu pertama di januari asing mencatat ...\n",
       "3     02/01/2024  hari pertama perdagangan harga penutupan ihsg ...\n",
       "4     04/01/2024  akhirnya indeks harga saham gabungan atau ihsg...\n",
       "...          ...                                                ...\n",
       "4511  26/05/2025  ihsg diprediksi akan bergerak bervariasi cende...\n",
       "4512  28/05/2025  ihsg kembali menguat di zona hijau pagi ini si...\n",
       "4513  27/05/2025  ihsg mengalami penguatan pada pagi ini bagaima...\n",
       "4514  27/05/2025  ihsg ditutup menguat poin atau persen ke posis...\n",
       "4515  23/05/2025  ihsg naik ke top gainers lq inco asii mbma di ...\n",
       "\n",
       "[4516 rows x 2 columns]"
      ]
     },
     "execution_count": 9,
     "metadata": {},
     "output_type": "execute_result"
    }
   ],
   "source": [
    "data"
   ]
  },
  {
   "cell_type": "code",
   "execution_count": null,
   "id": "2c619a0b",
   "metadata": {},
   "outputs": [],
   "source": [
    "# save to csv\n",
    "data.to_csv(r\"F:\\Willy's Project\\Project\\Sentiment Analysis and Stock Forecasting\\data\\text_data_cleaned.csv\", index=False)"
   ]
  }
 ],
 "metadata": {
  "kernelspec": {
   "display_name": "Python 3",
   "language": "python",
   "name": "python3"
  },
  "language_info": {
   "codemirror_mode": {
    "name": "ipython",
    "version": 3
   },
   "file_extension": ".py",
   "mimetype": "text/x-python",
   "name": "python",
   "nbconvert_exporter": "python",
   "pygments_lexer": "ipython3",
   "version": "3.11.0"
  }
 },
 "nbformat": 4,
 "nbformat_minor": 5
}
